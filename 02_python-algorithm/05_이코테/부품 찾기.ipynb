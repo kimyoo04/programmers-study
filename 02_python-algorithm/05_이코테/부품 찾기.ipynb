{
 "cells": [
  {
   "attachments": {},
   "cell_type": "markdown",
   "metadata": {},
   "source": [
    "### Q3 (programmers)\n",
    "\n",
    "### 컴퓨터 매장에는 n개의 부품이 있으며, 부품마다 정수 형태의 고유한 번호가 있다. 어느 날 손님이 m개 종류의 부품을 대량으로 구매하겠다며 부품의 재고유무를 문의하였다. 매장에 부품 재고가 있는지 확인하는 프로그램을 작성하라. \n",
    "\n",
    "### 매장이 가지고 있는 부품 리스트와 고객이 확인하고자 하는 부품 리스트를 입력받는다. 고객이 요청한 부품 번호의 순서대로 부품을 확인해 부품이 있으면 yes, 없으면 no를 출력한다. \n",
    "\n",
    "### 제한사항\n",
    "- 부품 재고의 갯수는 고려하지 않으며 부품이 있는지 여부만 체크한다\n",
    "- 부품 리스트 길이(n, m)는 1이상, 15이하입니다.\n",
    "- 매장 보유 부품 번호는 오름차순으로 정렬된 형태로 입력한다.\n",
    "- 부품 리스트의 원소는 100 이하인 자연수입니다.\n",
    "\n",
    "\n",
    "### 입출력 예\n",
    "|store | customer | answer\n",
    "|------|----------|-------\n",
    "|[2,3,7,8,9]|[7,5,9]|['yes', 'no', 'yes']\n",
    "|[1,2,3,7,8]|[1,5,8,4,6]|['yes', 'no', 'yes', 'no', 'no']"
   ]
  },
  {
   "cell_type": "code",
   "execution_count": null,
   "metadata": {},
   "outputs": [],
   "source": [
    "def solution(store, customer):\n",
    "    answer = {}\n",
    "    \n",
    "    for n in customer:\n",
    "        answer[n] = \"no\"\n",
    "    \n",
    "    for i in store:\n",
    "        if i in answer.keys():\n",
    "            answer[i] = \"yes\"\n",
    "    return [*answer.values()]\n",
    "\n",
    "store = [2,3,7,8,9]\n",
    "customer = [7,5,9]\n",
    "answer = solution(store, customer)\n",
    "print(answer)"
   ]
  }
 ],
 "metadata": {
  "kernelspec": {
   "display_name": "base",
   "language": "python",
   "name": "python3"
  },
  "language_info": {
   "name": "python",
   "version": "3.9.13"
  },
  "orig_nbformat": 4,
  "vscode": {
   "interpreter": {
    "hash": "f08154012ddadd8e950e6e9e035c7a7b32c136e7647e9b7c77e02eb723a8bedb"
   }
  }
 },
 "nbformat": 4,
 "nbformat_minor": 2
}
